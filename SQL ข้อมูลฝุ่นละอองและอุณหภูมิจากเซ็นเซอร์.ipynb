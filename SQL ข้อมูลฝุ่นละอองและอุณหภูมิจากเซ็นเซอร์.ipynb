{
 "cells": [
  {
   "cell_type": "markdown",
   "metadata": {},
   "source": [
    "# SQL ข้อมูลฝุ่นละอองและอุณหภูมิจากเซ็นเซอร์"
   ]
  },
  {
   "cell_type": "markdown",
   "metadata": {},
   "source": [
    "## วิษณุ   ค้าเครื่องเรือน 6030822121"
   ]
  },
  {
   "cell_type": "markdown",
   "metadata": {},
   "source": [
    "## ER diagram"
   ]
  },
  {
   "cell_type": "code",
   "execution_count": 1,
   "metadata": {},
   "outputs": [
    {
     "data": {
      "image/png": "[encoded data removed]",
      "text/plain": [
       "<PIL.PngImagePlugin.PngImageFile image mode=RGB size=797x244 at 0x1EF7058CA90>"
      ]
     },
     "execution_count": 1,
     "metadata": {},
     "output_type": "execute_result"
    }
   ],
   "source": [
    "# ให้ทำการติดตั้ง conda install requests และ conda install requests pillow\n",
    "from PIL import Image\n",
    "import requests\n",
    "from io import BytesIO\n",
    "response = requests.get('https://raw.githubusercontent.com/WITSANUKHA/SQL/master/ER.png')\n",
    "img = Image.open(BytesIO(response.content))\n",
    "img"
   ]
  },
  {
   "cell_type": "markdown",
   "metadata": {},
   "source": [
    "## สร้างตาราง"
   ]
  },
  {
   "cell_type": "code",
   "execution_count": 2,
   "metadata": {},
   "outputs": [
    {
     "name": "stdout",
     "output_type": "stream",
     "text": [
      "Opened database successfully\n",
      "Table created successfully\n"
     ]
    }
   ],
   "source": [
    "import sqlite3\n",
    "\n",
    "t = sqlite3.connect('sqlaqidata.db')\n",
    "print(\"Opened database successfully\");\n",
    "\n",
    "t.execute('''\n",
    "CREATE TABLE IF NOT EXISTS Sensors (\n",
    "    Id INTEGER PRIMARY KEY NOT NULL,\n",
    "    SENSOR_Name CHAR(50) NOT NULL,\n",
    "    SENSOR_Location CHAR(50) NOT NULL\n",
    ");''')\n",
    "\n",
    "t.execute('''\n",
    "CREATE TABLE Data (\n",
    "    Date_Time CHAR(50) NOT NULL,\n",
    "    Temperature REAL NOT NULL,\n",
    "    AQI REAL NOT NULL,\n",
    "    Id INTEGER  NOT NULL\n",
    "        CONSTRAINT fk_Sensors_Id REFERENCES Sensors(Id));''')\n",
    "\n",
    "t.commit()\n",
    "\n",
    "print(\"Table created successfully\");"
   ]
  },
  {
   "cell_type": "markdown",
   "metadata": {},
   "source": [
    "## นำเข้าข้อมูล"
   ]
  },
  {
   "cell_type": "code",
   "execution_count": 3,
   "metadata": {},
   "outputs": [
    {
     "data": {
      "text/plain": [
       "<sqlite3.Cursor at 0x1ef705b0180>"
      ]
     },
     "execution_count": 3,
     "metadata": {},
     "output_type": "execute_result"
    }
   ],
   "source": [
    "t.execute(\"INSERT INTO Sensors(Id,SENSOR_Name,SENSOR_Location) VALUES(1,'Aa','Engineering');\")\n",
    "t.execute(\"INSERT INTO Sensors(Id,SENSOR_Name,SENSOR_Location) VALUES(2,'Bb','Architecture');\")\n",
    "t.execute(\"INSERT INTO Sensors(Id,SENSOR_Name,SENSOR_Location) VALUES(3,'Cc','Arts');\")\n",
    "t.execute(\"INSERT INTO Sensors(Id,SENSOR_Name,SENSOR_Location) VALUES(4,'Dd','Commerce and Accountancy');\")\n",
    "t.execute(\"INSERT INTO Sensors(Id,SENSOR_Name,SENSOR_Location) VALUES(5,'Ee','Dentistry');\")\n",
    "\n",
    "t.execute(\"INSERT INTO Data(Date_Time,Temperature,AQI,Id) VALUES('01/01/2020  08:00:00',35.0,50.4,1);\")\n",
    "t.execute(\"INSERT INTO Data(Date_Time,Temperature,AQI,Id) VALUES('01/01/2020  08:00:00',35.2,51.0,2);\")\n",
    "t.execute(\"INSERT INTO Data(Date_Time,Temperature,AQI,Id) VALUES('01/01/2020  08:00:00',34.9,48.2,3);\")\n",
    "t.execute(\"INSERT INTO Data(Date_Time,Temperature,AQI,Id) VALUES('01/01/2020  08:00:00',35.6,49.5,4);\")\n",
    "t.execute(\"INSERT INTO Data(Date_Time,Temperature,AQI,Id) VALUES('01/01/2020  08:00:00',35.1,50.1,5);\")\n",
    "\n",
    "t.execute(\"INSERT INTO Data(Date_Time,Temperature,AQI,Id) VALUES('01/01/2020  09:00:00',35.5,48.2,1);\")\n",
    "t.execute(\"INSERT INTO Data(Date_Time,Temperature,AQI,Id) VALUES('01/01/2020  09:00:00',35.6,49.9,2);\")\n",
    "t.execute(\"INSERT INTO Data(Date_Time,Temperature,AQI,Id) VALUES('01/01/2020  09:00:00',35.0,49.7,3);\")\n",
    "t.execute(\"INSERT INTO Data(Date_Time,Temperature,AQI,Id) VALUES('01/01/2020  09:00:00',35.7,48.4,4);\")\n",
    "t.execute(\"INSERT INTO Data(Date_Time,Temperature,AQI,Id) VALUES('01/01/2020  09:00:00',35.3,48.8,5);\")\n",
    "\n",
    "t.execute(\"INSERT INTO Data(Date_Time,Temperature,AQI,Id) VALUES('01/01/2020  10:00:00',35.7,51.2,1);\")\n",
    "t.execute(\"INSERT INTO Data(Date_Time,Temperature,AQI,Id) VALUES('01/01/2020  10:00:00',35.9,51.9,2);\")\n",
    "t.execute(\"INSERT INTO Data(Date_Time,Temperature,AQI,Id) VALUES('01/01/2020  10:00:00',35.5,50.5,3);\")\n",
    "t.execute(\"INSERT INTO Data(Date_Time,Temperature,AQI,Id) VALUES('01/01/2020  10:00:00',35.4,50.1,4);\")\n",
    "t.execute(\"INSERT INTO Data(Date_Time,Temperature,AQI,Id) VALUES('01/01/2020  10:00:00',35.7,50.4,5);\")"
   ]
  },
  {
   "cell_type": "markdown",
   "metadata": {},
   "source": [
    "## ทดลอง query เลือกทุกแถวทุกคอลัมน์มาจากตาราง"
   ]
  },
  {
   "cell_type": "code",
   "execution_count": 4,
   "metadata": {},
   "outputs": [
    {
     "name": "stdout",
     "output_type": "stream",
     "text": [
      "(1, 'Aa', 'Engineering')\n",
      "(2, 'Bb', 'Architecture')\n",
      "(3, 'Cc', 'Arts')\n",
      "(4, 'Dd', 'Commerce and Accountancy')\n",
      "(5, 'Ee', 'Dentistry')\n"
     ]
    }
   ],
   "source": [
    "for row in t.execute(\"SELECT * FROM SENSORS\"):\n",
    "  print(row)"
   ]
  },
  {
   "cell_type": "code",
   "execution_count": 5,
   "metadata": {},
   "outputs": [
    {
     "name": "stdout",
     "output_type": "stream",
     "text": [
      "('01/01/2020  08:00:00', 35.0, 50.4, 1)\n",
      "('01/01/2020  08:00:00', 35.2, 51.0, 2)\n",
      "('01/01/2020  08:00:00', 34.9, 48.2, 3)\n",
      "('01/01/2020  08:00:00', 35.6, 49.5, 4)\n",
      "('01/01/2020  08:00:00', 35.1, 50.1, 5)\n",
      "('01/01/2020  09:00:00', 35.5, 48.2, 1)\n",
      "('01/01/2020  09:00:00', 35.6, 49.9, 2)\n",
      "('01/01/2020  09:00:00', 35.0, 49.7, 3)\n",
      "('01/01/2020  09:00:00', 35.7, 48.4, 4)\n",
      "('01/01/2020  09:00:00', 35.3, 48.8, 5)\n",
      "('01/01/2020  10:00:00', 35.7, 51.2, 1)\n",
      "('01/01/2020  10:00:00', 35.9, 51.9, 2)\n",
      "('01/01/2020  10:00:00', 35.5, 50.5, 3)\n",
      "('01/01/2020  10:00:00', 35.4, 50.1, 4)\n",
      "('01/01/2020  10:00:00', 35.7, 50.4, 5)\n"
     ]
    }
   ],
   "source": [
    "for row in t.execute(\"select * from Data\"):\n",
    "  print(row)"
   ]
  },
  {
   "cell_type": "markdown",
   "metadata": {},
   "source": [
    "## เลือกสองตารางมาเชื่อมกัน"
   ]
  },
  {
   "cell_type": "code",
   "execution_count": 6,
   "metadata": {},
   "outputs": [
    {
     "data": {
      "text/plain": [
       "[('01/01/2020  08:00:00', 35.0, 50.4, 1, 'Aa', 'Engineering'),\n",
       " ('01/01/2020  08:00:00', 35.2, 51.0, 2, 'Bb', 'Architecture'),\n",
       " ('01/01/2020  08:00:00', 34.9, 48.2, 3, 'Cc', 'Arts'),\n",
       " ('01/01/2020  08:00:00', 35.6, 49.5, 4, 'Dd', 'Commerce and Accountancy'),\n",
       " ('01/01/2020  08:00:00', 35.1, 50.1, 5, 'Ee', 'Dentistry'),\n",
       " ('01/01/2020  09:00:00', 35.5, 48.2, 1, 'Aa', 'Engineering'),\n",
       " ('01/01/2020  09:00:00', 35.6, 49.9, 2, 'Bb', 'Architecture'),\n",
       " ('01/01/2020  09:00:00', 35.0, 49.7, 3, 'Cc', 'Arts'),\n",
       " ('01/01/2020  09:00:00', 35.7, 48.4, 4, 'Dd', 'Commerce and Accountancy'),\n",
       " ('01/01/2020  09:00:00', 35.3, 48.8, 5, 'Ee', 'Dentistry'),\n",
       " ('01/01/2020  10:00:00', 35.7, 51.2, 1, 'Aa', 'Engineering'),\n",
       " ('01/01/2020  10:00:00', 35.9, 51.9, 2, 'Bb', 'Architecture'),\n",
       " ('01/01/2020  10:00:00', 35.5, 50.5, 3, 'Cc', 'Arts'),\n",
       " ('01/01/2020  10:00:00', 35.4, 50.1, 4, 'Dd', 'Commerce and Accountancy'),\n",
       " ('01/01/2020  10:00:00', 35.7, 50.4, 5, 'Ee', 'Dentistry')]"
      ]
     },
     "execution_count": 6,
     "metadata": {},
     "output_type": "execute_result"
    }
   ],
   "source": [
    "t.execute(\"select d.Date_Time,d.Temperature,d.AQI,d.Id,s.SENSOR_Name,s.SENSOR_Location from Data d, SENSORS s where d.Id=s.Id\").fetchall()"
   ]
  },
  {
   "cell_type": "markdown",
   "metadata": {},
   "source": [
    "## ทำการเชื่อมตารางเข้าด้วยกันและแสดงผลด้วย pandas"
   ]
  },
  {
   "cell_type": "code",
   "execution_count": 7,
   "metadata": {},
   "outputs": [],
   "source": [
    "import pandas as pd"
   ]
  },
  {
   "cell_type": "code",
   "execution_count": 8,
   "metadata": {},
   "outputs": [
    {
     "data": {
      "text/html": [
       "<div>\n",
       "<style scoped>\n",
       "    .dataframe tbody tr th:only-of-type {\n",
       "        vertical-align: middle;\n",
       "    }\n",
       "\n",
       "    .dataframe tbody tr th {\n",
       "        vertical-align: top;\n",
       "    }\n",
       "\n",
       "    .dataframe thead th {\n",
       "        text-align: right;\n",
       "    }\n",
       "</style>\n",
       "<table border=\"1\" class=\"dataframe\">\n",
       "  <thead>\n",
       "    <tr style=\"text-align: right;\">\n",
       "      <th></th>\n",
       "      <th>Date_Time</th>\n",
       "      <th>Temperature</th>\n",
       "      <th>AQI</th>\n",
       "      <th>Id</th>\n",
       "    </tr>\n",
       "  </thead>\n",
       "  <tbody>\n",
       "    <tr>\n",
       "      <th>0</th>\n",
       "      <td>01/01/2020  08:00:00</td>\n",
       "      <td>35.0</td>\n",
       "      <td>50.4</td>\n",
       "      <td>1</td>\n",
       "    </tr>\n",
       "    <tr>\n",
       "      <th>1</th>\n",
       "      <td>01/01/2020  08:00:00</td>\n",
       "      <td>35.2</td>\n",
       "      <td>51.0</td>\n",
       "      <td>2</td>\n",
       "    </tr>\n",
       "    <tr>\n",
       "      <th>2</th>\n",
       "      <td>01/01/2020  08:00:00</td>\n",
       "      <td>34.9</td>\n",
       "      <td>48.2</td>\n",
       "      <td>3</td>\n",
       "    </tr>\n",
       "    <tr>\n",
       "      <th>3</th>\n",
       "      <td>01/01/2020  08:00:00</td>\n",
       "      <td>35.6</td>\n",
       "      <td>49.5</td>\n",
       "      <td>4</td>\n",
       "    </tr>\n",
       "    <tr>\n",
       "      <th>4</th>\n",
       "      <td>01/01/2020  08:00:00</td>\n",
       "      <td>35.1</td>\n",
       "      <td>50.1</td>\n",
       "      <td>5</td>\n",
       "    </tr>\n",
       "    <tr>\n",
       "      <th>5</th>\n",
       "      <td>01/01/2020  09:00:00</td>\n",
       "      <td>35.5</td>\n",
       "      <td>48.2</td>\n",
       "      <td>1</td>\n",
       "    </tr>\n",
       "    <tr>\n",
       "      <th>6</th>\n",
       "      <td>01/01/2020  09:00:00</td>\n",
       "      <td>35.6</td>\n",
       "      <td>49.9</td>\n",
       "      <td>2</td>\n",
       "    </tr>\n",
       "    <tr>\n",
       "      <th>7</th>\n",
       "      <td>01/01/2020  09:00:00</td>\n",
       "      <td>35.0</td>\n",
       "      <td>49.7</td>\n",
       "      <td>3</td>\n",
       "    </tr>\n",
       "    <tr>\n",
       "      <th>8</th>\n",
       "      <td>01/01/2020  09:00:00</td>\n",
       "      <td>35.7</td>\n",
       "      <td>48.4</td>\n",
       "      <td>4</td>\n",
       "    </tr>\n",
       "    <tr>\n",
       "      <th>9</th>\n",
       "      <td>01/01/2020  09:00:00</td>\n",
       "      <td>35.3</td>\n",
       "      <td>48.8</td>\n",
       "      <td>5</td>\n",
       "    </tr>\n",
       "    <tr>\n",
       "      <th>10</th>\n",
       "      <td>01/01/2020  10:00:00</td>\n",
       "      <td>35.7</td>\n",
       "      <td>51.2</td>\n",
       "      <td>1</td>\n",
       "    </tr>\n",
       "    <tr>\n",
       "      <th>11</th>\n",
       "      <td>01/01/2020  10:00:00</td>\n",
       "      <td>35.9</td>\n",
       "      <td>51.9</td>\n",
       "      <td>2</td>\n",
       "    </tr>\n",
       "    <tr>\n",
       "      <th>12</th>\n",
       "      <td>01/01/2020  10:00:00</td>\n",
       "      <td>35.5</td>\n",
       "      <td>50.5</td>\n",
       "      <td>3</td>\n",
       "    </tr>\n",
       "    <tr>\n",
       "      <th>13</th>\n",
       "      <td>01/01/2020  10:00:00</td>\n",
       "      <td>35.4</td>\n",
       "      <td>50.1</td>\n",
       "      <td>4</td>\n",
       "    </tr>\n",
       "    <tr>\n",
       "      <th>14</th>\n",
       "      <td>01/01/2020  10:00:00</td>\n",
       "      <td>35.7</td>\n",
       "      <td>50.4</td>\n",
       "      <td>5</td>\n",
       "    </tr>\n",
       "  </tbody>\n",
       "</table>\n",
       "</div>"
      ],
      "text/plain": [
       "               Date_Time  Temperature   AQI  Id\n",
       "0   01/01/2020  08:00:00         35.0  50.4   1\n",
       "1   01/01/2020  08:00:00         35.2  51.0   2\n",
       "2   01/01/2020  08:00:00         34.9  48.2   3\n",
       "3   01/01/2020  08:00:00         35.6  49.5   4\n",
       "4   01/01/2020  08:00:00         35.1  50.1   5\n",
       "5   01/01/2020  09:00:00         35.5  48.2   1\n",
       "6   01/01/2020  09:00:00         35.6  49.9   2\n",
       "7   01/01/2020  09:00:00         35.0  49.7   3\n",
       "8   01/01/2020  09:00:00         35.7  48.4   4\n",
       "9   01/01/2020  09:00:00         35.3  48.8   5\n",
       "10  01/01/2020  10:00:00         35.7  51.2   1\n",
       "11  01/01/2020  10:00:00         35.9  51.9   2\n",
       "12  01/01/2020  10:00:00         35.5  50.5   3\n",
       "13  01/01/2020  10:00:00         35.4  50.1   4\n",
       "14  01/01/2020  10:00:00         35.7  50.4   5"
      ]
     },
     "execution_count": 8,
     "metadata": {},
     "output_type": "execute_result"
    }
   ],
   "source": [
    "Data = pd.read_sql_query(\"SELECT * from Data\",t)\n",
    "Data"
   ]
  },
  {
   "cell_type": "code",
   "execution_count": 9,
   "metadata": {},
   "outputs": [
    {
     "data": {
      "text/html": [
       "<div>\n",
       "<style scoped>\n",
       "    .dataframe tbody tr th:only-of-type {\n",
       "        vertical-align: middle;\n",
       "    }\n",
       "\n",
       "    .dataframe tbody tr th {\n",
       "        vertical-align: top;\n",
       "    }\n",
       "\n",
       "    .dataframe thead th {\n",
       "        text-align: right;\n",
       "    }\n",
       "</style>\n",
       "<table border=\"1\" class=\"dataframe\">\n",
       "  <thead>\n",
       "    <tr style=\"text-align: right;\">\n",
       "      <th></th>\n",
       "      <th>Id</th>\n",
       "      <th>SENSOR_Name</th>\n",
       "      <th>SENSOR_Location</th>\n",
       "    </tr>\n",
       "  </thead>\n",
       "  <tbody>\n",
       "    <tr>\n",
       "      <th>0</th>\n",
       "      <td>1</td>\n",
       "      <td>Aa</td>\n",
       "      <td>Engineering</td>\n",
       "    </tr>\n",
       "    <tr>\n",
       "      <th>1</th>\n",
       "      <td>2</td>\n",
       "      <td>Bb</td>\n",
       "      <td>Architecture</td>\n",
       "    </tr>\n",
       "    <tr>\n",
       "      <th>2</th>\n",
       "      <td>3</td>\n",
       "      <td>Cc</td>\n",
       "      <td>Arts</td>\n",
       "    </tr>\n",
       "    <tr>\n",
       "      <th>3</th>\n",
       "      <td>4</td>\n",
       "      <td>Dd</td>\n",
       "      <td>Commerce and Accountancy</td>\n",
       "    </tr>\n",
       "    <tr>\n",
       "      <th>4</th>\n",
       "      <td>5</td>\n",
       "      <td>Ee</td>\n",
       "      <td>Dentistry</td>\n",
       "    </tr>\n",
       "  </tbody>\n",
       "</table>\n",
       "</div>"
      ],
      "text/plain": [
       "   Id SENSOR_Name           SENSOR_Location\n",
       "0   1          Aa               Engineering\n",
       "1   2          Bb              Architecture\n",
       "2   3          Cc                      Arts\n",
       "3   4          Dd  Commerce and Accountancy\n",
       "4   5          Ee                 Dentistry"
      ]
     },
     "execution_count": 9,
     "metadata": {},
     "output_type": "execute_result"
    }
   ],
   "source": [
    "SENSORS = pd.read_sql_query(\"SELECT * from SENSORS\",t)\n",
    "SENSORS"
   ]
  },
  {
   "cell_type": "code",
   "execution_count": 10,
   "metadata": {},
   "outputs": [
    {
     "data": {
      "text/html": [
       "<div>\n",
       "<style scoped>\n",
       "    .dataframe tbody tr th:only-of-type {\n",
       "        vertical-align: middle;\n",
       "    }\n",
       "\n",
       "    .dataframe tbody tr th {\n",
       "        vertical-align: top;\n",
       "    }\n",
       "\n",
       "    .dataframe thead th {\n",
       "        text-align: right;\n",
       "    }\n",
       "</style>\n",
       "<table border=\"1\" class=\"dataframe\">\n",
       "  <thead>\n",
       "    <tr style=\"text-align: right;\">\n",
       "      <th></th>\n",
       "      <th>Id</th>\n",
       "      <th>SENSOR_Name</th>\n",
       "      <th>SENSOR_Location</th>\n",
       "      <th>Date_Time</th>\n",
       "      <th>Temperature</th>\n",
       "      <th>AQI</th>\n",
       "    </tr>\n",
       "  </thead>\n",
       "  <tbody>\n",
       "    <tr>\n",
       "      <th>0</th>\n",
       "      <td>1</td>\n",
       "      <td>Aa</td>\n",
       "      <td>Engineering</td>\n",
       "      <td>01/01/2020  08:00:00</td>\n",
       "      <td>35.0</td>\n",
       "      <td>50.4</td>\n",
       "    </tr>\n",
       "    <tr>\n",
       "      <th>1</th>\n",
       "      <td>1</td>\n",
       "      <td>Aa</td>\n",
       "      <td>Engineering</td>\n",
       "      <td>01/01/2020  09:00:00</td>\n",
       "      <td>35.5</td>\n",
       "      <td>48.2</td>\n",
       "    </tr>\n",
       "    <tr>\n",
       "      <th>2</th>\n",
       "      <td>1</td>\n",
       "      <td>Aa</td>\n",
       "      <td>Engineering</td>\n",
       "      <td>01/01/2020  10:00:00</td>\n",
       "      <td>35.7</td>\n",
       "      <td>51.2</td>\n",
       "    </tr>\n",
       "    <tr>\n",
       "      <th>3</th>\n",
       "      <td>2</td>\n",
       "      <td>Bb</td>\n",
       "      <td>Architecture</td>\n",
       "      <td>01/01/2020  08:00:00</td>\n",
       "      <td>35.2</td>\n",
       "      <td>51.0</td>\n",
       "    </tr>\n",
       "    <tr>\n",
       "      <th>4</th>\n",
       "      <td>2</td>\n",
       "      <td>Bb</td>\n",
       "      <td>Architecture</td>\n",
       "      <td>01/01/2020  09:00:00</td>\n",
       "      <td>35.6</td>\n",
       "      <td>49.9</td>\n",
       "    </tr>\n",
       "    <tr>\n",
       "      <th>5</th>\n",
       "      <td>2</td>\n",
       "      <td>Bb</td>\n",
       "      <td>Architecture</td>\n",
       "      <td>01/01/2020  10:00:00</td>\n",
       "      <td>35.9</td>\n",
       "      <td>51.9</td>\n",
       "    </tr>\n",
       "    <tr>\n",
       "      <th>6</th>\n",
       "      <td>3</td>\n",
       "      <td>Cc</td>\n",
       "      <td>Arts</td>\n",
       "      <td>01/01/2020  08:00:00</td>\n",
       "      <td>34.9</td>\n",
       "      <td>48.2</td>\n",
       "    </tr>\n",
       "    <tr>\n",
       "      <th>7</th>\n",
       "      <td>3</td>\n",
       "      <td>Cc</td>\n",
       "      <td>Arts</td>\n",
       "      <td>01/01/2020  09:00:00</td>\n",
       "      <td>35.0</td>\n",
       "      <td>49.7</td>\n",
       "    </tr>\n",
       "    <tr>\n",
       "      <th>8</th>\n",
       "      <td>3</td>\n",
       "      <td>Cc</td>\n",
       "      <td>Arts</td>\n",
       "      <td>01/01/2020  10:00:00</td>\n",
       "      <td>35.5</td>\n",
       "      <td>50.5</td>\n",
       "    </tr>\n",
       "    <tr>\n",
       "      <th>9</th>\n",
       "      <td>4</td>\n",
       "      <td>Dd</td>\n",
       "      <td>Commerce and Accountancy</td>\n",
       "      <td>01/01/2020  08:00:00</td>\n",
       "      <td>35.6</td>\n",
       "      <td>49.5</td>\n",
       "    </tr>\n",
       "    <tr>\n",
       "      <th>10</th>\n",
       "      <td>4</td>\n",
       "      <td>Dd</td>\n",
       "      <td>Commerce and Accountancy</td>\n",
       "      <td>01/01/2020  09:00:00</td>\n",
       "      <td>35.7</td>\n",
       "      <td>48.4</td>\n",
       "    </tr>\n",
       "    <tr>\n",
       "      <th>11</th>\n",
       "      <td>4</td>\n",
       "      <td>Dd</td>\n",
       "      <td>Commerce and Accountancy</td>\n",
       "      <td>01/01/2020  10:00:00</td>\n",
       "      <td>35.4</td>\n",
       "      <td>50.1</td>\n",
       "    </tr>\n",
       "    <tr>\n",
       "      <th>12</th>\n",
       "      <td>5</td>\n",
       "      <td>Ee</td>\n",
       "      <td>Dentistry</td>\n",
       "      <td>01/01/2020  08:00:00</td>\n",
       "      <td>35.1</td>\n",
       "      <td>50.1</td>\n",
       "    </tr>\n",
       "    <tr>\n",
       "      <th>13</th>\n",
       "      <td>5</td>\n",
       "      <td>Ee</td>\n",
       "      <td>Dentistry</td>\n",
       "      <td>01/01/2020  09:00:00</td>\n",
       "      <td>35.3</td>\n",
       "      <td>48.8</td>\n",
       "    </tr>\n",
       "    <tr>\n",
       "      <th>14</th>\n",
       "      <td>5</td>\n",
       "      <td>Ee</td>\n",
       "      <td>Dentistry</td>\n",
       "      <td>01/01/2020  10:00:00</td>\n",
       "      <td>35.7</td>\n",
       "      <td>50.4</td>\n",
       "    </tr>\n",
       "  </tbody>\n",
       "</table>\n",
       "</div>"
      ],
      "text/plain": [
       "    Id SENSOR_Name           SENSOR_Location             Date_Time  \\\n",
       "0    1          Aa               Engineering  01/01/2020  08:00:00   \n",
       "1    1          Aa               Engineering  01/01/2020  09:00:00   \n",
       "2    1          Aa               Engineering  01/01/2020  10:00:00   \n",
       "3    2          Bb              Architecture  01/01/2020  08:00:00   \n",
       "4    2          Bb              Architecture  01/01/2020  09:00:00   \n",
       "5    2          Bb              Architecture  01/01/2020  10:00:00   \n",
       "6    3          Cc                      Arts  01/01/2020  08:00:00   \n",
       "7    3          Cc                      Arts  01/01/2020  09:00:00   \n",
       "8    3          Cc                      Arts  01/01/2020  10:00:00   \n",
       "9    4          Dd  Commerce and Accountancy  01/01/2020  08:00:00   \n",
       "10   4          Dd  Commerce and Accountancy  01/01/2020  09:00:00   \n",
       "11   4          Dd  Commerce and Accountancy  01/01/2020  10:00:00   \n",
       "12   5          Ee                 Dentistry  01/01/2020  08:00:00   \n",
       "13   5          Ee                 Dentistry  01/01/2020  09:00:00   \n",
       "14   5          Ee                 Dentistry  01/01/2020  10:00:00   \n",
       "\n",
       "    Temperature   AQI  \n",
       "0          35.0  50.4  \n",
       "1          35.5  48.2  \n",
       "2          35.7  51.2  \n",
       "3          35.2  51.0  \n",
       "4          35.6  49.9  \n",
       "5          35.9  51.9  \n",
       "6          34.9  48.2  \n",
       "7          35.0  49.7  \n",
       "8          35.5  50.5  \n",
       "9          35.6  49.5  \n",
       "10         35.7  48.4  \n",
       "11         35.4  50.1  \n",
       "12         35.1  50.1  \n",
       "13         35.3  48.8  \n",
       "14         35.7  50.4  "
      ]
     },
     "execution_count": 10,
     "metadata": {},
     "output_type": "execute_result"
    }
   ],
   "source": [
    "df = pd.merge(SENSORS,\n",
    "              Data,\n",
    "              on = 'Id')\n",
    "df"
   ]
  }
 ],
 "metadata": {
  "kernelspec": {
   "display_name": "Python 3",
   "language": "python",
   "name": "python3"
  },
  "language_info": {
   "codemirror_mode": {
    "name": "ipython",
    "version": 3
   },
   "file_extension": ".py",
   "mimetype": "text/x-python",
   "name": "python",
   "nbconvert_exporter": "python",
   "pygments_lexer": "ipython3",
   "version": "3.8.5"
  }
 },
 "nbformat": 4,
 "nbformat_minor": 4
}
